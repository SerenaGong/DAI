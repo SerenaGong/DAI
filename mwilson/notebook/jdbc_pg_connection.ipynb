{
 "cells": [
  {
   "cell_type": "code",
   "execution_count": 1,
   "metadata": {},
   "outputs": [],
   "source": [
    "from pyspark.sql import SparkSession\n",
    "\n",
    "DB_URL=\"jdbc:postgresql://hwdb1.cjbwf6taixqt.us-east-1.rds.amazonaws.com:5432/hwpoc\""
   ]
  },
  {
   "cell_type": "code",
   "execution_count": 2,
   "metadata": {},
   "outputs": [],
   "source": [
    "# override default spark session var\n",
    "# NOTE: you *must* set --driver-class-path when you run pyspark or the JDBC driver\n",
    "# will not be found, even if you set the parameters in the builder below.\n",
    "foo = (SparkSession\n",
    "         .builder\n",
    "         .appName('jdbc_pg_connection')\n",
    "         #.config(\"spark.jars\", \"../lib/postgresql-42.2.2.jar\")\n",
    "         #.config(\"spark.driver.extraClassPath\", \"../lib/postgresql-42.2.2.jar\")\n",
    "         #.config(\"spark.executor.extraClassPath\", \"../lib/postgresql-42.2.2.jar\" )\n",
    "         .enableHiveSupport()\n",
    "         .getOrCreate())\n"
   ]
  },
  {
   "cell_type": "code",
   "execution_count": 14,
   "metadata": {},
   "outputs": [
    {
     "name": "stdout",
     "output_type": "stream",
     "text": [
      "+---+--------+---------+--------------------+---------+---------+------------------+----------------+--------------------+-----------------------+---------------+--------------------------+-------------+------------------------+--------------+-------------------------+--------------------+--------------------+\n",
      "| pk| plan_id|plan_name|           plan_desc|base_cost|line_cost|rollover_voice_min|rollover_data_gb|adjustment_per_month|adjustment_length_month|voice_limit_min|voice_overage_cost_per_min|data_limit_gb|data_overage_cost_per_gb|text_limit_msg|text_overage_cost_per_msg|          created_at|          updated_at|\n",
      "+---+--------+---------+--------------------+---------+---------+------------------+----------------+--------------------+-----------------------+---------------+--------------------------+-------------+------------------------+--------------+-------------------------+--------------------+--------------------+\n",
      "|  1|PLAN1000|Unlimited|Unlimited Access ...| 79.99999| 29.99999|               100|               0|            -5.00000|                     12|           1000|                   0.10000|            0|                10.00000|            25|                  0.10000|2018-04-11 12:05:...|2018-04-11 12:05:...|\n",
      "+---+--------+---------+--------------------+---------+---------+------------------+----------------+--------------------+-----------------------+---------------+--------------------------+-------------+------------------------+--------------+-------------------------+--------------------+--------------------+\n",
      "only showing top 1 row\n",
      "\n"
     ]
    }
   ],
   "source": [
    "df_plan = (foo.read\n",
    "           .format(\"jdbc\")\n",
    "           .options(url=DB_URL)\n",
    "           .options(driver=\"org.postgresql.Driver\")\n",
    "           .options(user=\"hwpoc\")\n",
    "           .options(password=\"hwpoc\")\n",
    "           .options(dbtable=\"public.plan\")\n",
    "          ).load().cache()\n",
    "           \n",
    "df_plan.show(1)"
   ]
  },
  {
   "cell_type": "code",
   "execution_count": 10,
   "metadata": {},
   "outputs": [
    {
     "name": "stdout",
     "output_type": "stream",
     "text": [
      "root\n",
      " |-- pk: integer (nullable = true)\n",
      " |-- plan_id: string (nullable = true)\n",
      " |-- plan_name: string (nullable = true)\n",
      " |-- plan_desc: string (nullable = true)\n",
      " |-- base_cost: decimal(28,5) (nullable = true)\n",
      " |-- line_cost: decimal(28,5) (nullable = true)\n",
      " |-- rollover_voice_min: long (nullable = true)\n",
      " |-- rollover_data_gb: long (nullable = true)\n",
      " |-- adjustment_per_month: decimal(28,5) (nullable = true)\n",
      " |-- adjustment_length_month: long (nullable = true)\n",
      " |-- voice_limit_min: long (nullable = true)\n",
      " |-- voice_overage_cost_per_min: decimal(28,5) (nullable = true)\n",
      " |-- data_limit_gb: long (nullable = true)\n",
      " |-- data_overage_cost_per_gb: decimal(28,5) (nullable = true)\n",
      " |-- text_limit_msg: long (nullable = true)\n",
      " |-- text_overage_cost_per_msg: decimal(28,5) (nullable = true)\n",
      " |-- created_at: timestamp (nullable = true)\n",
      " |-- updated_at: timestamp (nullable = true)\n",
      "\n"
     ]
    }
   ],
   "source": [
    "df_plan.printSchema()"
   ]
  },
  {
   "cell_type": "code",
   "execution_count": null,
   "metadata": {},
   "outputs": [],
   "source": []
  }
 ],
 "metadata": {
  "kernelspec": {
   "display_name": "Python 3",
   "language": "python",
   "name": "python3"
  },
  "language_info": {
   "codemirror_mode": {
    "name": "ipython",
    "version": 3
   },
   "file_extension": ".py",
   "mimetype": "text/x-python",
   "name": "python",
   "nbconvert_exporter": "python",
   "pygments_lexer": "ipython3",
   "version": "3.6.4"
  }
 },
 "nbformat": 4,
 "nbformat_minor": 2
}
