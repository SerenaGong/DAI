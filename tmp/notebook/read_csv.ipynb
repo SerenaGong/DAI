{
 "cells": [
  {
   "cell_type": "code",
   "execution_count": 111,
   "metadata": {},
   "outputs": [],
   "source": [
    "import re\n",
    "from operator import add\n",
    "from pyspark.sql import SparkSession\n",
    "from pyspark.sql.types import *\n",
    "\n",
    "FILE_IN='../fixtures/test.csv'\n",
    "SCHEMA=StructType([\n",
    "    StructField('account_id', LongType(), False),\n",
    "    StructField('last_name', StringType(), False),\n",
    "    StructField('first_name', StringType(), False),\n",
    "    StructField('phone', StringType(), False),\n",
    "    StructField('address_1', StringType(), False),\n",
    "    StructField('address_2', StringType(), True),\n",
    "    StructField('city', StringType(), False),\n",
    "    StructField('state', StringType(), False),\n",
    "    StructField('postal_code', StringType(), False),\n",
    "    StructField('plan_id', StringType(), False),\n",
    "    StructField('foundation_id', StringType(), True),\n",
    "    StructField('joined_at', TimestampType(), False),\n",
    "    StructField('prev_balance', FloatType(), True),\n",
    "    StructField('adjustments', FloatType(), True),\n",
    "    StructField('prev_voice', IntegerType(), True),\n",
    "    StructField('prev_data', IntegerType(), True),\n",
    "    StructField('line', StringType(), False),\n",
    "    StructField('txn_type', StringType(), False),\n",
    "    StructField('txn_at', StringType(), False),\n",
    "    StructField('place', StringType(), True),\n",
    "    StructField('sent_recv', StringType(), True),\n",
    "    StructField('to_from', StringType(), True),\n",
    "    StructField('in_plan', IntegerType(), True),\n",
    "    StructField('in_network', IntegerType(), True),\n",
    "    StructField('mins', IntegerType(), True),\n",
    "    StructField('type_unit', StringType(), True)\n",
    "])"
   ]
  },
  {
   "cell_type": "code",
   "execution_count": 105,
   "metadata": {},
   "outputs": [
    {
     "data": {
      "text/html": [
       "\n",
       "        <div>\n",
       "            <p><b>SparkContext</b></p>\n",
       "\n",
       "            <p><a href=\"http://192.168.104.1:4040\">Spark UI</a></p>\n",
       "\n",
       "            <dl>\n",
       "              <dt>Version</dt>\n",
       "                <dd><code>v2.3.0</code></dd>\n",
       "              <dt>Master</dt>\n",
       "                <dd><code>local[*]</code></dd>\n",
       "              <dt>AppName</dt>\n",
       "                <dd><code>PySparkShell</code></dd>\n",
       "            </dl>\n",
       "        </div>\n",
       "        "
      ],
      "text/plain": [
       "<SparkContext master=local[*] appName=PySparkShell>"
      ]
     },
     "execution_count": 105,
     "metadata": {},
     "output_type": "execute_result"
    }
   ],
   "source": [
    "sc"
   ]
  },
  {
   "cell_type": "code",
   "execution_count": 106,
   "metadata": {},
   "outputs": [],
   "source": [
    "# override default spark session var\n",
    "spark = SparkSession.builder.appName(\"read_csv\").getOrCreate()"
   ]
  },
  {
   "cell_type": "code",
   "execution_count": 109,
   "metadata": {},
   "outputs": [
    {
     "data": {
      "text/plain": [
       "[('account_id', 'bigint'),\n",
       " ('last_name', 'string'),\n",
       " ('first_name', 'string'),\n",
       " ('phone', 'string'),\n",
       " ('address_1', 'string'),\n",
       " ('address_2', 'string'),\n",
       " ('city', 'string'),\n",
       " ('state', 'string'),\n",
       " ('postal_code', 'string'),\n",
       " ('plan_id', 'string'),\n",
       " ('foundation_id', 'string'),\n",
       " ('joined_at', 'timestamp'),\n",
       " ('prev_balance', 'float'),\n",
       " ('adjustments', 'float'),\n",
       " ('prev_voice', 'int'),\n",
       " ('prev_data', 'int'),\n",
       " ('line', 'string'),\n",
       " ('txn_type', 'string'),\n",
       " ('txn_at', 'timestamp'),\n",
       " ('place', 'string'),\n",
       " ('sent_recv', 'string'),\n",
       " ('to_from', 'string'),\n",
       " ('in_plan', 'int'),\n",
       " ('in_network', 'int'),\n",
       " ('mins', 'int'),\n",
       " ('type_unit', 'string')]"
      ]
     },
     "execution_count": 109,
     "metadata": {},
     "output_type": "execute_result"
    }
   ],
   "source": [
    "# read data from sample CSV file, apply schema.\n",
    "df = (spark.read\n",
    "      .option(\"header\", \"false\")\n",
    "      #.option(\"mode\", \"SKIPMALFORMED\")\n",
    "      #.option(\"inferSchema\", \"true\") \n",
    "      .schema(SCHEMA)\n",
    "      .csv(FILE_IN))\n",
    "df.dtypes"
   ]
  },
  {
   "cell_type": "code",
   "execution_count": 110,
   "metadata": {},
   "outputs": [
    {
     "data": {
      "text/plain": [
       "Row(account_id=None, last_name=None, first_name=None, phone=None, address_1=None, address_2=None, city=None, state=None, postal_code=None, plan_id=None, foundation_id=None, joined_at=None, prev_balance=None, adjustments=None, prev_voice=None, prev_data=None, line=None, txn_type=None, txn_at=None, place=None, sent_recv=None, to_from=None, in_plan=None, in_network=None, mins=None, type_unit=None)"
      ]
     },
     "execution_count": 110,
     "metadata": {},
     "output_type": "execute_result"
    }
   ],
   "source": [
    "df.head()"
   ]
  },
  {
   "cell_type": "code",
   "execution_count": 98,
   "metadata": {},
   "outputs": [
    {
     "name": "stdout",
     "output_type": "stream",
     "text": [
      "count: 57911\n"
     ]
    }
   ],
   "source": [
    "# count of rows in df\n",
    "print(\"count: {}\".format(df.count()))"
   ]
  },
  {
   "cell_type": "code",
   "execution_count": null,
   "metadata": {},
   "outputs": [],
   "source": [
    "df.dtypes"
   ]
  }
 ],
 "metadata": {
  "kernelspec": {
   "display_name": "Python 3",
   "language": "python",
   "name": "python3"
  },
  "language_info": {
   "codemirror_mode": {
    "name": "ipython",
    "version": 3
   },
   "file_extension": ".py",
   "mimetype": "text/x-python",
   "name": "python",
   "nbconvert_exporter": "python",
   "pygments_lexer": "ipython3",
   "version": "3.6.4"
  }
 },
 "nbformat": 4,
 "nbformat_minor": 2
}
